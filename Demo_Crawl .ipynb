{
 "cells": [
  {
   "cell_type": "code",
   "execution_count": 1,
   "metadata": {},
   "outputs": [],
   "source": [
    "from requests_html import HTMLSession"
   ]
  },
  {
   "cell_type": "code",
   "execution_count": 2,
   "metadata": {},
   "outputs": [],
   "source": [
    "session = HTMLSession()"
   ]
  },
  {
   "cell_type": "code",
   "execution_count": 3,
   "metadata": {},
   "outputs": [],
   "source": [
    "r = session.get('https://careerbuilder.vn/viec-lam/data-scientist-k-vi.html')"
   ]
  },
  {
   "cell_type": "code",
   "execution_count": 34,
   "metadata": {},
   "outputs": [
    {
     "name": "stdout",
     "output_type": "stream",
     "text": [
      "7\n",
      "BellSystem24-Hoa Sao\n",
      "Hà Nội\n",
      "Lương: 30 Tr - 40 Tr VND\n",
      "13/08/2020\n",
      "Ngày cập nhật\n",
      "https://careerbuilder.vn/vi/tim-viec-lam/data-scientist.35B481F0.html\n",
      "\n",
      "Công Ty TNHH MTV Wacontre\n",
      "Hồ Chí Minh\n",
      "Lương: 33 Tr - 55 Tr VND\n",
      "04/08/2020\n",
      "Ngày cập nhật\n",
      "https://careerbuilder.vn/vi/tim-viec-lam/quan-1-singapore-product-data-scientist-_-1500-2500-usd.35B417EC.html\n",
      "\n",
      "DatvietVAC Group Holdings\n",
      "Hồ Chí Minh\n",
      "Lương: Cạnh tranh\n",
      "14/08/2020\n",
      "Ngày cập nhật\n",
      "https://careerbuilder.vn/vi/tim-viec-lam/data-manager-vieon.35B456DF.html\n",
      "\n",
      "Công ty TNHH Onpoint\n",
      "Hồ Chí Minh\n",
      "Lương: Cạnh tranh\n",
      "13/08/2020\n",
      "Ngày cập nhật\n",
      "https://careerbuilder.vn/vi/tim-viec-lam/bi-analysis.35B453AE.html\n",
      "\n",
      "HDBank\n",
      "Hồ Chí Minh\n",
      "Lương: Cạnh tranh\n",
      "27/07/2020\n",
      "Ngày cập nhật\n",
      "https://careerbuilder.vn/vi/tim-viec-lam/data-engineer-junior-–-associate.35B43B24.html\n",
      "\n",
      "FPT Software\n",
      "Hà Nội\n",
      "Lương: Trên 55 Tr VND\n",
      "10/08/2020\n",
      "Ngày cập nhật\n",
      "https://careerbuilder.vn/vi/tim-viec-lam/05-data-engineer.35B4601A.html\n",
      "\n",
      "Ngân hàng Thương mại Cổ phần Hàng Hải Việt Nam (MSB)\n",
      "Hà Nội\n",
      "Lương: 20 Tr - 25 Tr VND\n",
      "11/08/2020\n",
      "Ngày cập nhật\n",
      "https://careerbuilder.vn/vi/tim-viec-lam/cvcc-phat-trien-san-pham-khdn-linh-vuc-thuong-mai-eb-msb-1m032.35B48323.html\n",
      "\n"
     ]
    }
   ],
   "source": [
    "posts = r.html.find('.job-item  ')\n",
    "print(len(posts))\n",
    "for post in posts:\n",
    "    title = post.find('.caption', first=True).text\n",
    "    #print(title)\n",
    "\n",
    "    company = post.find('.company-name', first=True).text\n",
    "    print(company)\n",
    "\n",
    "    location = post.find('.location', first=True).text\n",
    "    print(location)\n",
    "    \n",
    "    salary = post.find('.salary', first=True).text\n",
    "    print(salary)\n",
    "    \n",
    "    date = post.find('.time', first=True).text\n",
    "    print(date)\n",
    "    \n",
    "    link = post.find('.job_link', first=True).attrs['href']\n",
    "    print(link)\n",
    "    \n",
    "    print()"
   ]
  }
 ],
 "metadata": {
  "kernelspec": {
   "display_name": "Python 3",
   "language": "python",
   "name": "python3"
  },
  "language_info": {
   "codemirror_mode": {
    "name": "ipython",
    "version": 3
   },
   "file_extension": ".py",
   "mimetype": "text/x-python",
   "name": "python",
   "nbconvert_exporter": "python",
   "pygments_lexer": "ipython3",
   "version": "3.7.6"
  }
 },
 "nbformat": 4,
 "nbformat_minor": 4
}
